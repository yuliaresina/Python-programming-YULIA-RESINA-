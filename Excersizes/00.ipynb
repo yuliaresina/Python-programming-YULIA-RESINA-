{
 "cells": [
  {
   "cell_type": "code",
   "execution_count": 2,
   "metadata": {},
   "outputs": [
    {
     "name": "stdout",
     "output_type": "stream",
     "text": [
      "The hypothenuse is 5.0 legnth units\n"
     ]
    }
   ],
   "source": [
    "# a)\n",
    "import math\n",
    "a = 3\n",
    "b = 4\n",
    "hypothenuse = math.sqrt(a**2+b**2)\n",
    "print (f\"The hypothenuse is {hypothenuse} legnth units\")"
   ]
  },
  {
   "cell_type": "code",
   "execution_count": 3,
   "metadata": {},
   "outputs": [
    {
     "name": "stdout",
     "output_type": "stream",
     "text": [
      "The other cathetus is 4.9 length units\n"
     ]
    }
   ],
   "source": [
    "# b)\n",
    "import math\n",
    "katet1 = 5**2 \n",
    "hypothenuse = 7**2\n",
    "katet2 = math.sqrt(hypothenuse - katet1) \n",
    "print (f\"The other cathetus is {katet2:.1f} length units\")"
   ]
  },
  {
   "cell_type": "code",
   "execution_count": 4,
   "metadata": {},
   "outputs": [
    {
     "name": "stdout",
     "output_type": "stream",
     "text": [
      "The accuracy of this model is 0.82.\n"
     ]
    }
   ],
   "source": [
    "predictions = 365 \n",
    "correct = 300 \n",
    "accuracy = correct / predictions\n",
    "print (f\"The accuracy of this model is {accuracy:.2f}.\")"
   ]
  },
  {
   "cell_type": "code",
   "execution_count": 6,
   "metadata": {},
   "outputs": [
    {
     "name": "stdout",
     "output_type": "stream",
     "text": [
      "The accuracy of this model is 0.987\n"
     ]
    }
   ],
   "source": [
    "tp = 2\n",
    "fp = 2\n",
    "fn = 11 \n",
    "tn = 985 \n",
    "accuracy = (tp + tn) / (tp + tn + fp + fn) \n",
    "print (f\"The accuracy of this model is {accuracy}\") \n",
    "#This is not a good model.\n"
   ]
  },
  {
   "cell_type": "code",
   "execution_count": 9,
   "metadata": {},
   "outputs": [
    {
     "name": "stdout",
     "output_type": "stream",
     "text": [
      "The slope k is 0.75\n",
      "The eguation for the slope is y = 0.75x + 1\n"
     ]
    }
   ],
   "source": [
    "x1 = 4\n",
    "y1 = 4\n",
    "x2 = 0 \n",
    "y2 = 1\n",
    "k = (1-4) / (0-4)\n",
    "\n",
    "print (f\"The slope k is {k}\")\n",
    "\n",
    "print (f\"The eguation for the slope is y = {k}x + 1\") "
   ]
  },
  {
   "cell_type": "code",
   "execution_count": 10,
   "metadata": {},
   "outputs": [
    {
     "name": "stdout",
     "output_type": "stream",
     "text": [
      "The distance is around 5.1 length units\n"
     ]
    }
   ],
   "source": [
    "import math \n",
    "x1 = 3\n",
    "y1 = 5 \n",
    "x2 = -2\n",
    "y2 = 4 \n",
    "\n",
    "distance = math.sqrt((x2 - x1)**2 + (y2 - y1)**2) \n",
    "\n",
    "print (f\"The distance is around {distance:.1f} length units\") "
   ]
  },
  {
   "cell_type": "code",
   "execution_count": 11,
   "metadata": {},
   "outputs": [
    {
     "name": "stdout",
     "output_type": "stream",
     "text": [
      "The distance is around 4.12 l.u.\n"
     ]
    }
   ],
   "source": [
    "import math \n",
    "p = (2,1,4)\n",
    "q = (3,1,0)\n",
    "\n",
    "\n",
    "distance = math.sqrt((2-3)**2 + (1-1)**2 + (4-0)**2)\n",
    "\n",
    "print (f\"The distance is around {distance:.2f} l.u.\")  "
   ]
  }
 ],
 "metadata": {
  "kernelspec": {
   "display_name": "Python 3",
   "language": "python",
   "name": "python3"
  },
  "language_info": {
   "codemirror_mode": {
    "name": "ipython",
    "version": 3
   },
   "file_extension": ".py",
   "mimetype": "text/x-python",
   "name": "python",
   "nbconvert_exporter": "python",
   "pygments_lexer": "ipython3",
   "version": "3.12.5"
  }
 },
 "nbformat": 4,
 "nbformat_minor": 2
}
